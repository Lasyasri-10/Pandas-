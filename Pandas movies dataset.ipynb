{
 "cells": [
  {
   "cell_type": "code",
   "execution_count": 1,
   "id": "cf2b43c3-83cc-4cfc-a553-783091a6b88a",
   "metadata": {},
   "outputs": [],
   "source": [
    "import pandas as pd"
   ]
  },
  {
   "cell_type": "code",
   "execution_count": 4,
   "id": "bcfdd364-56c7-4b9e-b846-386ca3449f4e",
   "metadata": {},
   "outputs": [
    {
     "name": "stdout",
     "output_type": "stream",
     "text": [
      "     Movie Name      Genre  Release_Year  IMDb_Rating  Revenue\n",
      "0       Movie 1     Sci-Fi          2000          6.0  1680.53\n",
      "1       Movie 2  Adventure          2000          2.2   987.24\n",
      "2       Movie 3    Romance          2002          5.2  1122.13\n",
      "3       Movie 4    Romance          2001          4.5   581.84\n",
      "4       Movie 5     Action          2012          6.6  1205.51\n",
      "..          ...        ...           ...          ...      ...\n",
      "995   Movie 996     Sci-Fi          2013          8.7   456.39\n",
      "996   Movie 997  Adventure          1993          6.2  1255.27\n",
      "997   Movie 998    Fantasy          2016          8.1  1161.96\n",
      "998   Movie 999     Action          1996          8.9   941.67\n",
      "999  Movie 1000     Horror          1995          9.4  1390.70\n",
      "\n",
      "[1000 rows x 5 columns]\n"
     ]
    }
   ],
   "source": [
    "df = pd.read_excel(\"Movies_Dataset.xlsx\")\n",
    "print(df)"
   ]
  },
  {
   "cell_type": "code",
   "execution_count": 6,
   "id": "391a5585-81f7-44a7-86f6-c1f367eb7971",
   "metadata": {},
   "outputs": [
    {
     "name": "stdout",
     "output_type": "stream",
     "text": [
      "    Movie Name   Genre  Release_Year  IMDb_Rating  Revenue\n",
      "4      Movie 5  Action          2012          6.6  1205.51\n",
      "34    Movie 35  Action          2009          8.7   545.60\n",
      "64    Movie 65  Action          2023          7.7  1137.79\n",
      "65    Movie 66  Action          1999          3.1  1335.85\n",
      "73    Movie 74  Action          2001          4.1   350.80\n",
      "..         ...     ...           ...          ...      ...\n",
      "930  Movie 931  Action          1994          8.6  1863.66\n",
      "944  Movie 945  Action          2004          7.5  1709.81\n",
      "980  Movie 981  Action          2022          5.2    28.40\n",
      "988  Movie 989  Action          2023          4.1   231.67\n",
      "998  Movie 999  Action          1996          8.9   941.67\n",
      "\n",
      "[104 rows x 5 columns]\n"
     ]
    }
   ],
   "source": [
    "action_movies = df[df['Genre'] == 'Action']\n",
    "print(action_movies)"
   ]
  },
  {
   "cell_type": "code",
   "execution_count": 8,
   "id": "ba1a01d5-a0a7-4961-aceb-4046b9f8e204",
   "metadata": {},
   "outputs": [
    {
     "name": "stdout",
     "output_type": "stream",
     "text": [
      "    Movie Name     Genre  Release_Year  IMDb_Rating  Revenue\n",
      "2      Movie 3   Romance          2002          5.2  1122.13\n",
      "3      Movie 4   Romance          2001          4.5   581.84\n",
      "4      Movie 5    Action          2012          6.6  1205.51\n",
      "6      Movie 7   Mystery          2021          5.1  1683.99\n",
      "7      Movie 8    Comedy          2005          4.0  1062.13\n",
      "..         ...       ...           ...          ...      ...\n",
      "988  Movie 989    Action          2023          4.1   231.67\n",
      "989  Movie 990   Fantasy          2004          1.6  1056.58\n",
      "991  Movie 992  Thriller          2004          9.2   251.25\n",
      "995  Movie 996    Sci-Fi          2013          8.7   456.39\n",
      "997  Movie 998   Fantasy          2016          8.1  1161.96\n",
      "\n",
      "[518 rows x 5 columns]\n"
     ]
    }
   ],
   "source": [
    "movies_after_2000 = df[df['Release_Year'] > 2000]\n",
    "print(movies_after_2000)"
   ]
  },
  {
   "cell_type": "code",
   "execution_count": 10,
   "id": "42f60a53-70d0-4ff1-a1c2-3c8d7b07e803",
   "metadata": {},
   "outputs": [
    {
     "name": "stdout",
     "output_type": "stream",
     "text": [
      "     Movie Name      Genre  Release_Year  IMDb_Rating  Revenue\n",
      "34     Movie 35     Action          2009          8.7   545.60\n",
      "51     Movie 52    Mystery          1998          9.0  1089.93\n",
      "56     Movie 57     Comedy          1993          9.2  1586.13\n",
      "74     Movie 75  Adventure          1999          8.6  1688.49\n",
      "81     Movie 82    Mystery          1997          8.6  1238.32\n",
      "..          ...        ...           ...          ...      ...\n",
      "991   Movie 992   Thriller          2004          9.2   251.25\n",
      "992   Movie 993     Horror          1985          9.6   951.23\n",
      "995   Movie 996     Sci-Fi          2013          8.7   456.39\n",
      "998   Movie 999     Action          1996          8.9   941.67\n",
      "999  Movie 1000     Horror          1995          9.4  1390.70\n",
      "\n",
      "[148 rows x 5 columns]\n"
     ]
    }
   ],
   "source": [
    "high_rated_movies = df[df['IMDb_Rating'] > 8.5]\n",
    "print(high_rated_movies)"
   ]
  },
  {
   "cell_type": "code",
   "execution_count": 12,
   "id": "a7c234e1-faac-458e-8ade-e7ed9fc42186",
   "metadata": {},
   "outputs": [
    {
     "name": "stdout",
     "output_type": "stream",
     "text": [
      "     Movie Name      Genre\n",
      "0       Movie 1     Sci-Fi\n",
      "1       Movie 2  Adventure\n",
      "2       Movie 3    Romance\n",
      "3       Movie 4    Romance\n",
      "4       Movie 5     Action\n",
      "..          ...        ...\n",
      "995   Movie 996     Sci-Fi\n",
      "996   Movie 997  Adventure\n",
      "997   Movie 998    Fantasy\n",
      "998   Movie 999     Action\n",
      "999  Movie 1000     Horror\n",
      "\n",
      "[1000 rows x 2 columns]\n"
     ]
    }
   ],
   "source": [
    "action_movies = df[['Movie Name','Genre']]\n",
    "print(action_movies)"
   ]
  },
  {
   "cell_type": "code",
   "execution_count": 14,
   "id": "b04e4cbe-87a1-443c-aac0-b8d10a1818a4",
   "metadata": {},
   "outputs": [
    {
     "name": "stdout",
     "output_type": "stream",
     "text": [
      "     Movie Name      Genre  Release_Year  IMDb_Rating  Revenue\n",
      "0       Movie 1     Sci-Fi          2000          6.0  1680.53\n",
      "1       Movie 2  Adventure          2000          2.2   987.24\n",
      "2       Movie 3    Romance          2002          5.2  1122.13\n",
      "3       Movie 4    Romance          2001          4.5   581.84\n",
      "5       Movie 6    Fantasy          1997          2.4   485.22\n",
      "..          ...        ...           ...          ...      ...\n",
      "991   Movie 992   Thriller          2004          9.2   251.25\n",
      "994   Movie 995     Sci-Fi          1997          2.0   342.98\n",
      "996   Movie 997  Adventure          1993          6.2  1255.27\n",
      "998   Movie 999     Action          1996          8.9   941.67\n",
      "999  Movie 1000     Horror          1995          9.4  1390.70\n",
      "\n",
      "[500 rows x 5 columns]\n"
     ]
    }
   ],
   "source": [
    "movies_between_years = df[(df['Release_Year'] >= 1990) & (df['Release_Year'] <= 2010)]\n",
    "print(movies_between_years)"
   ]
  },
  {
   "cell_type": "code",
   "execution_count": 16,
   "id": "53e5df09-c8e9-429f-a64e-8f4275723f62",
   "metadata": {},
   "outputs": [
    {
     "name": "stdout",
     "output_type": "stream",
     "text": [
      "Genre\n",
      "Drama        113\n",
      "Comedy       110\n",
      "Fantasy      107\n",
      "Thriller     107\n",
      "Action       104\n",
      "Adventure     96\n",
      "Sci-Fi        93\n",
      "Romance       91\n",
      "Horror        90\n",
      "Mystery       89\n",
      "Name: count, dtype: int64\n"
     ]
    }
   ],
   "source": [
    "genre_counts = df['Genre'].value_counts()\n",
    "print(genre_counts)"
   ]
  },
  {
   "cell_type": "code",
   "execution_count": 18,
   "id": "c1adfdf5-c724-4f62-9fbf-b14dca4e1704",
   "metadata": {},
   "outputs": [
    {
     "name": "stdout",
     "output_type": "stream",
     "text": [
      "Movie Name      Movie 107\n",
      "Genre             Romance\n",
      "Release_Year         2007\n",
      "IMDb_Rating          10.0\n",
      "Revenue           1837.45\n",
      "Name: 106, dtype: object\n"
     ]
    }
   ],
   "source": [
    "highest_rated_movie = df.loc[df['IMDb_Rating'].idxmax()]\n",
    "print(highest_rated_movie)"
   ]
  },
  {
   "cell_type": "code",
   "execution_count": 20,
   "id": "9b6eb4da-08db-479d-9be2-fdbc0b67a4b2",
   "metadata": {},
   "outputs": [
    {
     "name": "stdout",
     "output_type": "stream",
     "text": [
      "5.458600000000001\n"
     ]
    }
   ],
   "source": [
    "average_rating = df['IMDb_Rating'].mean()\n",
    "print(average_rating)"
   ]
  },
  {
   "cell_type": "code",
   "execution_count": 22,
   "id": "2f1e67ad-f8b5-4b49-8c5c-e35d044e5bba",
   "metadata": {},
   "outputs": [
    {
     "name": "stdout",
     "output_type": "stream",
     "text": [
      "1049716.26\n"
     ]
    }
   ],
   "source": [
    "total_box_office = df['Revenue'].sum()\n",
    "print(total_box_office)"
   ]
  },
  {
   "cell_type": "code",
   "execution_count": 24,
   "id": "afcfe2e0-ed95-4958-9e95-6e5bcd8b3800",
   "metadata": {},
   "outputs": [
    {
     "name": "stdout",
     "output_type": "stream",
     "text": [
      "     Movie Name      Genre  Release_Year  IMDb_Rating  Revenue\n",
      "0       Movie 1     Sci-Fi          2000          6.0  1680.53\n",
      "1       Movie 2  Adventure          2000          2.2   987.24\n",
      "2       Movie 3    Romance          2002          5.2  1122.13\n",
      "3       Movie 4    Romance          2001          4.5   581.84\n",
      "4       Movie 5     Action          2012          6.6  1205.51\n",
      "..          ...        ...           ...          ...      ...\n",
      "993   Movie 994  Adventure          1989          7.3  1273.65\n",
      "996   Movie 997  Adventure          1993          6.2  1255.27\n",
      "997   Movie 998    Fantasy          2016          8.1  1161.96\n",
      "998   Movie 999     Action          1996          8.9   941.67\n",
      "999  Movie 1000     Horror          1995          9.4  1390.70\n",
      "\n",
      "[774 rows x 5 columns]\n"
     ]
    }
   ],
   "source": [
    "total_box_office = df[df['Revenue']>500]\n",
    "print(total_box_office)"
   ]
  },
  {
   "cell_type": "code",
   "execution_count": 26,
   "id": "afefe02f-e0f8-4948-bc70-287ddcf433f7",
   "metadata": {},
   "outputs": [
    {
     "name": "stdout",
     "output_type": "stream",
     "text": [
      "     Movie Name  IMDb_Rating   Rank\n",
      "0       Movie 1          6.0  432.5\n",
      "1       Movie 2          2.2  869.0\n",
      "2       Movie 3          5.2  529.5\n",
      "3       Movie 4          4.5  609.5\n",
      "4       Movie 5          6.6  353.5\n",
      "..          ...          ...    ...\n",
      "995   Movie 996          8.7  131.5\n",
      "996   Movie 997          6.2  406.5\n",
      "997   Movie 998          8.1  199.5\n",
      "998   Movie 999          8.9  104.5\n",
      "999  Movie 1000          9.4   54.0\n",
      "\n",
      "[1000 rows x 3 columns]\n"
     ]
    }
   ],
   "source": [
    "df['Rank'] = df['IMDb_Rating'].rank(ascending=False)\n",
    "print(df[['Movie Name', 'IMDb_Rating', 'Rank']])"
   ]
  },
  {
   "cell_type": "code",
   "execution_count": 28,
   "id": "a09440f7-36ea-4656-9af6-e4a5ae692cdd",
   "metadata": {},
   "outputs": [
    {
     "name": "stdout",
     "output_type": "stream",
     "text": [
      "    Movie Name      Genre  Release_Year  IMDb_Rating  Revenue   Rank\n",
      "320  Movie 321    Romance          2024          4.2   477.47  650.5\n",
      "211  Movie 212     Comedy          2024          1.5   837.32  957.0\n",
      "489  Movie 490   Thriller          2024          3.2  1536.79  765.5\n",
      "808  Movie 809     Action          2024          6.0   714.96  432.5\n",
      "917  Movie 918     Horror          2024          1.1  1042.80  991.0\n",
      "..         ...        ...           ...          ...      ...    ...\n",
      "509  Movie 510    Fantasy          1980          6.3  1260.11  392.0\n",
      "798  Movie 799      Drama          1980          3.1  1587.13  774.0\n",
      "496  Movie 497    Fantasy          1980          4.7  1683.97  588.0\n",
      "794  Movie 795  Adventure          1980          4.5  1346.01  609.5\n",
      "170  Movie 171    Mystery          1980          4.6  1684.78  599.0\n",
      "\n",
      "[1000 rows x 6 columns]\n"
     ]
    }
   ],
   "source": [
    "sorted_movies = df.sort_values(by='Release_Year', ascending=False)\n",
    "print(sorted_movies)"
   ]
  },
  {
   "cell_type": "code",
   "execution_count": 30,
   "id": "e2d57451-47dc-4ada-91d3-337bf7738198",
   "metadata": {},
   "outputs": [
    {
     "name": "stdout",
     "output_type": "stream",
     "text": [
      "   Movie Name      Genre  Release_Year  IMDb_Rating  Revenue   Rank\n",
      "12   Movie 10      Drama          1996          3.2  1352.66  765.5\n",
      "13   Movie 11    Mystery          2003          6.3   596.43  392.0\n",
      "14   Movie 12     Sci-Fi          1988          3.0  1134.01  786.5\n",
      "20   Movie 16     Comedy          2006          2.3  1322.79  856.0\n",
      "21   Movie 17     Horror          2007          6.2  1114.31  406.5\n",
      "22   Movie 18  Adventure          1998          7.9  1426.73  221.0\n",
      "23   Movie 19     Comedy          1986          6.0  1783.44  432.5\n",
      "24   Movie 20    Fantasy          1982          6.9  1598.08  329.0\n"
     ]
    }
   ],
   "source": [
    "duplicate_movies = df[df['Movie Name'].duplicated()]\n",
    "print(duplicate_movies)"
   ]
  },
  {
   "cell_type": "code",
   "execution_count": 32,
   "id": "6f24ea61-ffdf-4cf0-b76b-b27866396d06",
   "metadata": {},
   "outputs": [
    {
     "name": "stdout",
     "output_type": "stream",
     "text": [
      "     Movie Name      Genre  Release_Year  IMDb_Rating  Revenue   Rank\n",
      "0       Movie 1     Sci-Fi          2000          6.0  1680.53  432.5\n",
      "1       Movie 2  Adventure          2000          2.2   987.24  869.0\n",
      "2       Movie 3    Romance          2002          5.2  1122.13  529.5\n",
      "3       Movie 4    Romance          2001          4.5   581.84  609.5\n",
      "4       Movie 5     Action          2012          6.6  1205.51  353.5\n",
      "..          ...        ...           ...          ...      ...    ...\n",
      "995   Movie 996     Sci-Fi          2013          8.7   456.39  131.5\n",
      "996   Movie 997  Adventure          1993          6.2  1255.27  406.5\n",
      "997   Movie 998    Fantasy          2016          8.1  1161.96  199.5\n",
      "998   Movie 999     Action          1996          8.9   941.67  104.5\n",
      "999  Movie 1000     Horror          1995          9.4  1390.70   54.0\n",
      "\n",
      "[992 rows x 6 columns]\n"
     ]
    }
   ],
   "source": [
    "df.drop_duplicates(subset=['Movie Name'], inplace=True)\n",
    "print(df)"
   ]
  },
  {
   "cell_type": "code",
   "execution_count": 34,
   "id": "9826117c-8316-4cd9-9fce-b3cc6f4058d8",
   "metadata": {},
   "outputs": [
    {
     "name": "stdout",
     "output_type": "stream",
     "text": [
      "     Movie Name            Genre  Release_Year  IMDb_Rating  Revenue   Rank\n",
      "0       Movie 1  Science Fiction          2000          6.0  1680.53  432.5\n",
      "1       Movie 2        Adventure          2000          2.2   987.24  869.0\n",
      "2       Movie 3          Romance          2002          5.2  1122.13  529.5\n",
      "3       Movie 4          Romance          2001          4.5   581.84  609.5\n",
      "4       Movie 5           Action          2012          6.6  1205.51  353.5\n",
      "..          ...              ...           ...          ...      ...    ...\n",
      "995   Movie 996  Science Fiction          2013          8.7   456.39  131.5\n",
      "996   Movie 997        Adventure          1993          6.2  1255.27  406.5\n",
      "997   Movie 998          Fantasy          2016          8.1  1161.96  199.5\n",
      "998   Movie 999           Action          1996          8.9   941.67  104.5\n",
      "999  Movie 1000           Horror          1995          9.4  1390.70   54.0\n",
      "\n",
      "[992 rows x 6 columns]\n"
     ]
    }
   ],
   "source": [
    "df['Genre'] = df['Genre'].replace('Sci-Fi', 'Science Fiction')\n",
    "print(df)"
   ]
  },
  {
   "cell_type": "code",
   "execution_count": 36,
   "id": "27563f89-6ece-408b-bcf3-e62db319caef",
   "metadata": {},
   "outputs": [
    {
     "name": "stdout",
     "output_type": "stream",
     "text": [
      "  Movie Name            Genre  Release_Year  IMDb_Rating  Revenue   Rank\n",
      "0    Movie 1  Science Fiction          2000          6.0  1680.53  432.5\n",
      "1    Movie 2        Adventure          2000          2.2   987.24  869.0\n",
      "2    Movie 3          Romance          2002          5.2  1122.13  529.5\n",
      "3    Movie 4          Romance          2001          4.5   581.84  609.5\n",
      "4    Movie 5           Action          2012          6.6  1205.51  353.5\n",
      "5    Movie 6          Fantasy          1997          2.4   485.22  844.5\n",
      "6    Movie 7          Mystery          2021          5.1  1683.99  545.5\n",
      "7    Movie 8           Comedy          2005          4.0  1062.13  672.5\n",
      "8    Movie 9           Horror          1992          2.8  1592.74  815.0\n",
      "9   Movie 10            Drama          1996          3.2  1352.66  765.5\n"
     ]
    }
   ],
   "source": [
    "first_10_movies = df.head(10)\n",
    "print(first_10_movies)"
   ]
  },
  {
   "cell_type": "code",
   "execution_count": 38,
   "id": "a1a893a8-8811-469b-bd96-fa92b7ed10dc",
   "metadata": {},
   "outputs": [
    {
     "name": "stdout",
     "output_type": "stream",
     "text": [
      "     Movie Name            Genre  Release_Year  IMDb_Rating  Revenue   Rank\n",
      "995   Movie 996  Science Fiction          2013          8.7   456.39  131.5\n",
      "996   Movie 997        Adventure          1993          6.2  1255.27  406.5\n",
      "997   Movie 998          Fantasy          2016          8.1  1161.96  199.5\n",
      "998   Movie 999           Action          1996          8.9   941.67  104.5\n",
      "999  Movie 1000           Horror          1995          9.4  1390.70   54.0\n"
     ]
    }
   ],
   "source": [
    "last_5_movies = df.tail(5)\n",
    "print(last_5_movies)"
   ]
  },
  {
   "cell_type": "code",
   "execution_count": 40,
   "id": "58953287-1dcf-42dd-8bd3-2664a3c082c9",
   "metadata": {},
   "outputs": [
    {
     "name": "stdout",
     "output_type": "stream",
     "text": [
      "Genre\n",
      "Action             5.670192\n",
      "Adventure          4.982105\n",
      "Comedy             5.466667\n",
      "Drama              5.191071\n",
      "Fantasy            5.183962\n",
      "Horror             5.810112\n",
      "Mystery            5.772727\n",
      "Romance            5.938462\n",
      "Science Fiction    5.471739\n",
      "Thriller           5.267290\n",
      "Name: IMDb_Rating, dtype: float64\n"
     ]
    }
   ],
   "source": [
    "average_rating_by_genre = df.groupby('Genre')['IMDb_Rating'].mean()\n",
    "print(average_rating_by_genre)"
   ]
  },
  {
   "cell_type": "code",
   "execution_count": 42,
   "id": "78fb041b-19f5-4f41-a8d9-bf7678a38fe7",
   "metadata": {},
   "outputs": [
    {
     "name": "stdout",
     "output_type": "stream",
     "text": [
      "Release_Year\n",
      "1980    26\n",
      "1981    17\n",
      "1982    20\n",
      "1983    16\n",
      "1984    16\n",
      "1985    28\n",
      "1986    20\n",
      "1987    17\n",
      "1988    19\n",
      "1989    30\n",
      "1990    21\n",
      "1991    21\n",
      "1992    26\n",
      "1993    21\n",
      "1994    23\n",
      "1995    27\n",
      "1996    25\n",
      "1997    22\n",
      "1998    28\n",
      "1999    25\n",
      "2000    29\n",
      "2001    23\n",
      "2002    24\n",
      "2003    24\n",
      "2004    20\n",
      "2005    21\n",
      "2006    22\n",
      "2007    28\n",
      "2008    24\n",
      "2009    21\n",
      "2010    20\n",
      "2011    23\n",
      "2012    20\n",
      "2013    26\n",
      "2014    20\n",
      "2015    23\n",
      "2016    14\n",
      "2017    18\n",
      "2018    18\n",
      "2019    15\n",
      "2020    20\n",
      "2021    16\n",
      "2022    25\n",
      "2023    18\n",
      "2024    32\n",
      "Name: count, dtype: int64\n"
     ]
    }
   ],
   "source": [
    "movies_per_year = df['Release_Year'].value_counts().sort_index()\n",
    "print(movies_per_year)"
   ]
  },
  {
   "cell_type": "code",
   "execution_count": 44,
   "id": "871fc005-3069-4600-b789-9691860b5360",
   "metadata": {},
   "outputs": [
    {
     "name": "stdout",
     "output_type": "stream",
     "text": [
      "Genre\n",
      "Action             111137.94\n",
      "Adventure          102437.69\n",
      "Comedy             119580.40\n",
      "Drama              118958.66\n",
      "Fantasy            108251.78\n",
      "Horror              89281.21\n",
      "Mystery             98236.50\n",
      "Romance             94413.72\n",
      "Science Fiction     84677.79\n",
      "Thriller           112412.12\n",
      "Name: Revenue, dtype: float64\n"
     ]
    }
   ],
   "source": [
    "box_office_per_genre = df.groupby('Genre')['Revenue'].sum()\n",
    "print(box_office_per_genre)"
   ]
  },
  {
   "cell_type": "code",
   "execution_count": null,
   "id": "dc880d14-562d-4b54-853e-d7f0de96a87f",
   "metadata": {},
   "outputs": [],
   "source": []
  }
 ],
 "metadata": {
  "kernelspec": {
   "display_name": "Python [conda env:base] *",
   "language": "python",
   "name": "conda-base-py"
  },
  "language_info": {
   "codemirror_mode": {
    "name": "ipython",
    "version": 3
   },
   "file_extension": ".py",
   "mimetype": "text/x-python",
   "name": "python",
   "nbconvert_exporter": "python",
   "pygments_lexer": "ipython3",
   "version": "3.12.7"
  }
 },
 "nbformat": 4,
 "nbformat_minor": 5
}
